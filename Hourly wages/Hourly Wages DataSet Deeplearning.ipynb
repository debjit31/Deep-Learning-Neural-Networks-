{
 "cells": [
  {
   "cell_type": "code",
   "execution_count": 1,
   "metadata": {},
   "outputs": [
    {
     "name": "stderr",
     "output_type": "stream",
     "text": [
      "Using TensorFlow backend.\n"
     ]
    },
    {
     "name": "stdout",
     "output_type": "stream",
     "text": [
      "<class 'pandas.core.frame.DataFrame'>\n",
      "RangeIndex: 534 entries, 0 to 533\n",
      "Data columns (total 10 columns):\n",
      "wage_per_hour     534 non-null float64\n",
      "union             534 non-null int64\n",
      "education_yrs     534 non-null int64\n",
      "experience_yrs    534 non-null int64\n",
      "age               534 non-null int64\n",
      "female            534 non-null int64\n",
      "marr              534 non-null int64\n",
      "south             534 non-null int64\n",
      "manufacturing     534 non-null int64\n",
      "construction      534 non-null int64\n",
      "dtypes: float64(1), int64(9)\n",
      "memory usage: 41.8 KB\n"
     ]
    },
    {
     "data": {
      "text/plain": [
       "(   wage_per_hour  union  education_yrs  experience_yrs  age  female  marr  \\\n",
       " 0           5.10      0              8              21   35       1     1   \n",
       " 1           4.95      0              9              42   57       1     1   \n",
       " 2           6.67      0             12               1   19       0     0   \n",
       " 3           4.00      0             12               4   22       0     0   \n",
       " 4           7.50      0             12              17   35       0     1   \n",
       " \n",
       "    south  manufacturing  construction  \n",
       " 0      0              1             0  \n",
       " 1      0              1             0  \n",
       " 2      0              1             0  \n",
       " 3      0              0             0  \n",
       " 4      0              0             0  , None)"
      ]
     },
     "execution_count": 1,
     "metadata": {},
     "output_type": "execute_result"
    }
   ],
   "source": [
    "import numpy as np\n",
    "import pandas as pd\n",
    "import keras\n",
    "from keras.models import Sequential\n",
    "from keras.layers import Dense\n",
    "from keras.utils import to_categorical\n",
    "from keras.callbacks import EarlyStopping\n",
    "df = pd.read_csv('hourly_wages.csv')\n",
    "df.head(), df.info()"
   ]
  },
  {
   "cell_type": "code",
   "execution_count": 2,
   "metadata": {},
   "outputs": [],
   "source": [
    "predictors = df.drop(['marr'], axis = 1).values\n",
    "targets = to_categorical(df.marr)\n",
    "n_cols = predictors.shape[1]"
   ]
  },
  {
   "cell_type": "code",
   "execution_count": 6,
   "metadata": {},
   "outputs": [
    {
     "name": "stdout",
     "output_type": "stream",
     "text": [
      "Train on 427 samples, validate on 107 samples\n",
      "Epoch 1/30\n",
      "427/427 [==============================] - 1s 3ms/step - loss: 1.6562 - acc: 0.5761 - val_loss: 0.8292 - val_acc: 0.6449\n",
      "Epoch 2/30\n",
      "427/427 [==============================] - 0s 1ms/step - loss: 0.7524 - acc: 0.6534 - val_loss: 0.6677 - val_acc: 0.6916\n",
      "Epoch 3/30\n",
      "427/427 [==============================] - 0s 1ms/step - loss: 0.5905 - acc: 0.7237 - val_loss: 0.6834 - val_acc: 0.6542\n"
     ]
    },
    {
     "data": {
      "text/plain": [
       "<keras.callbacks.History at 0x275a7e8b6d8>"
      ]
     },
     "execution_count": 6,
     "metadata": {},
     "output_type": "execute_result"
    }
   ],
   "source": [
    "model = Sequential()\n",
    "\n",
    "model.add(Dense(1000, activation = 'relu', input_shape = (n_cols, )))\n",
    "model.add(Dense(750, activation='relu'))\n",
    "model.add(Dense(550, activation='relu'))\n",
    "\n",
    "model.add(Dense(2, activation = 'softmax'))\n",
    "\n",
    "model.compile(optimizer = 'adam', loss = 'categorical_crossentropy', metrics = ['accuracy'])\n",
    "\n",
    "early_stopping_monitor = EarlyStopping(patience = 1)\n",
    "\n",
    "model.fit(predictors, targets, validation_split = 0.2, epochs = 30, callbacks = [early_stopping_monitor])"
   ]
  }
 ],
 "metadata": {
  "kernelspec": {
   "display_name": "Python 3",
   "language": "python",
   "name": "python3"
  },
  "language_info": {
   "codemirror_mode": {
    "name": "ipython",
    "version": 3
   },
   "file_extension": ".py",
   "mimetype": "text/x-python",
   "name": "python",
   "nbconvert_exporter": "python",
   "pygments_lexer": "ipython3",
   "version": "3.7.3"
  }
 },
 "nbformat": 4,
 "nbformat_minor": 2
}
